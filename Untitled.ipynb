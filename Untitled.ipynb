{
 "cells": [
  {
   "cell_type": "code",
   "execution_count": 1,
   "id": "57d7e872",
   "metadata": {},
   "outputs": [],
   "source": [
    "import cv2 \n",
    "import mediapipe as mp "
   ]
  },
  {
   "cell_type": "code",
   "execution_count": 5,
   "id": "d7f5479f",
   "metadata": {},
   "outputs": [],
   "source": [
    "# conecta o python com a sua webcam.\n",
    "\n",
    "webcam = cv2.VideoCapture(0) \n",
    "\n",
    "# reconhecimento facial\n",
    "reconhecimento_rosto = mp.solutions.face_detection \n",
    "desenho = mp.solutions.drawing_utils \n",
    "reconhecedor_rosto = reconhecimento_rosto.FaceDetection() # criando o item que consegue ler uma imagem e reconhecimento facial\n",
    "\n",
    "while webcam.isOpened():\n",
    "    validacao, frame = webcam.read() #captura a imagem da webcam\n",
    "    if not validacao:\n",
    "        break\n",
    "    imagem = frame\n",
    "    lista_rostos = reconhecedor_rosto.process(imagem) # lista de faces\n",
    "    \n",
    "    if lista_rostos.detections: # face reconhecida\n",
    "        for rosto in lista_rostos.detections: \n",
    "            desenho.draw_detection(imagem, rosto) # desenha o rosto na imagem\n",
    "    \n",
    "    cv2.imshow(\"Faces na sua webcam\", imagem) # mostra a imagem da webcam \n",
    "    if cv2.waitKey(5) == 27: # ESC # aprendi a usar o valor do teclado\n",
    "        break\n",
    "webcam.release() # Fim da conexão com a webcam\n",
    "cv2.destroyAllWindows() # fecha a janela onde a face está aparecendo"
   ]
  },
  {
   "cell_type": "code",
   "execution_count": null,
   "id": "a7df336d",
   "metadata": {},
   "outputs": [],
   "source": []
  },
  {
   "cell_type": "code",
   "execution_count": null,
   "id": "abda2e27",
   "metadata": {},
   "outputs": [],
   "source": []
  }
 ],
 "metadata": {
  "kernelspec": {
   "display_name": "Python 3 (ipykernel)",
   "language": "python",
   "name": "python3"
  },
  "language_info": {
   "codemirror_mode": {
    "name": "ipython",
    "version": 3
   },
   "file_extension": ".py",
   "mimetype": "text/x-python",
   "name": "python",
   "nbconvert_exporter": "python",
   "pygments_lexer": "ipython3",
   "version": "3.10.9"
  }
 },
 "nbformat": 4,
 "nbformat_minor": 5
}
